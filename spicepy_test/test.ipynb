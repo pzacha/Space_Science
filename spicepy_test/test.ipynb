{
 "cells": [
  {
   "cell_type": "code",
   "execution_count": 1,
   "metadata": {},
   "outputs": [],
   "source": [
    "import spiceypy\n",
    "import datetime"
   ]
  },
  {
   "cell_type": "code",
   "execution_count": 2,
   "metadata": {},
   "outputs": [],
   "source": [
    "spiceypy.furnsh(\"../kernels/lsk/naif0012.tls\")"
   ]
  },
  {
   "cell_type": "code",
   "execution_count": 3,
   "metadata": {},
   "outputs": [
    {
     "name": "stdout",
     "output_type": "stream",
     "text": [
      "692971269.1834947\n"
     ]
    }
   ],
   "source": [
    "DATE_TODAY = datetime.datetime.today()\n",
    "DATE_TODAY = DATE_TODAY.strftime(\"%Y-%m-%dT00:00:00\")\n",
    "\n",
    "ET_TODAY_MIDNIGHT = spiceypy.utc2et(DATE_TODAY)\n",
    "\n",
    "print(ET_TODAY_MIDNIGHT)"
   ]
  },
  {
   "cell_type": "code",
   "execution_count": 4,
   "metadata": {},
   "outputs": [
    {
     "name": "stdout",
     "output_type": "stream",
     "text": [
      "[ 1.29468304e+07  1.46646264e+08 -7.14263313e+03 -3.01472947e+01\n",
      "  2.50182809e+00 -1.09908734e-03] 491.0619446461582\n"
     ]
    }
   ],
   "source": [
    "spiceypy.furnsh(\"../kernels/spk/de432s.bsp\")\n",
    "EARTH_STATE_WRT_SUN, EARTH_SUN_LT = spiceypy.spkgeo(targ=399, et=ET_TODAY_MIDNIGHT, ref='ECLIPJ2000', obs=10)\n",
    "print(EARTH_STATE_WRT_SUN, EARTH_SUN_LT)"
   ]
  },
  {
   "cell_type": "code",
   "execution_count": 5,
   "metadata": {},
   "outputs": [
    {
     "name": "stdout",
     "output_type": "stream",
     "text": [
      "147216667.4157317\n"
     ]
    }
   ],
   "source": [
    "import math\n",
    "EARTH_SUN_DISTANCE = math.sqrt(EARTH_STATE_WRT_SUN[0]**2.0 + EARTH_STATE_WRT_SUN[1]**2.0 + EARTH_STATE_WRT_SUN[2]**2.0)\n",
    "print(EARTH_SUN_DISTANCE)"
   ]
  },
  {
   "cell_type": "code",
   "execution_count": 6,
   "metadata": {},
   "outputs": [
    {
     "name": "stdout",
     "output_type": "stream",
     "text": [
      "0.9840826397582474\n"
     ]
    }
   ],
   "source": [
    "EARTH_SUN_DISTANCE_AU = spiceypy.convrt(EARTH_SUN_DISTANCE, 'km', 'AU')\n",
    "print(EARTH_SUN_DISTANCE_AU)"
   ]
  },
  {
   "cell_type": "code",
   "execution_count": 7,
   "metadata": {},
   "outputs": [
    {
     "name": "stdout",
     "output_type": "stream",
     "text": [
      "30.25092602939763\n"
     ]
    }
   ],
   "source": [
    "EARTH_ORB_SPEED_WRT_SUN = math.sqrt(EARTH_STATE_WRT_SUN[3]**2.0 + EARTH_STATE_WRT_SUN[4]**2.0 + EARTH_STATE_WRT_SUN[5]**2.0)\n",
    "print(EARTH_ORB_SPEED_WRT_SUN)"
   ]
  },
  {
   "cell_type": "code",
   "execution_count": 8,
   "metadata": {},
   "outputs": [],
   "source": [
    "spiceypy.furnsh(\"../kernels/pck/gm_de431.tpc\")\n",
    "_, GM_SUN = spiceypy.bodvcd(bodyid=10, item='GM', maxn=1)"
   ]
  },
  {
   "cell_type": "code",
   "execution_count": 9,
   "metadata": {},
   "outputs": [
    {
     "name": "stdout",
     "output_type": "stream",
     "text": [
      "30.02460661486676\n"
     ]
    }
   ],
   "source": [
    "V_ORB_FUNC = lambda gm, r: math.sqrt(gm/r)\n",
    "EARTH_ORB_SPEED_WRT_SUN_THEORY = V_ORB_FUNC(GM_SUN[0], EARTH_SUN_DISTANCE)\n",
    "\n",
    "print(EARTH_ORB_SPEED_WRT_SUN_THEORY)"
   ]
  },
  {
   "cell_type": "code",
   "execution_count": null,
   "metadata": {},
   "outputs": [],
   "source": []
  }
 ],
 "metadata": {
  "interpreter": {
   "hash": "52f3862d4a4852c2394463b89733c96f5782d3e163ff3ff8a1211de5a79c4ab6"
  },
  "kernelspec": {
   "display_name": "Python 3.10.0 64-bit ('venv': venv)",
   "language": "python",
   "name": "python3"
  },
  "language_info": {
   "codemirror_mode": {
    "name": "ipython",
    "version": 3
   },
   "file_extension": ".py",
   "mimetype": "text/x-python",
   "name": "python",
   "nbconvert_exporter": "python",
   "pygments_lexer": "ipython3",
   "version": "3.10.1"
  },
  "orig_nbformat": 4
 },
 "nbformat": 4,
 "nbformat_minor": 2
}
