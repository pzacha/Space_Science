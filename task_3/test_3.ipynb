{
 "cells": [
  {
   "cell_type": "code",
   "execution_count": 22,
   "metadata": {},
   "outputs": [
    {
     "name": "stdout",
     "output_type": "stream",
     "text": [
      "The blackcellmagic extension is already loaded. To reload it, use:\n",
      "  %reload_ext blackcellmagic\n"
     ]
    }
   ],
   "source": [
    "%load_ext blackcellmagic"
   ]
  },
  {
   "cell_type": "code",
   "execution_count": 23,
   "metadata": {},
   "outputs": [],
   "source": [
    "import datetime\n",
    "import spiceypy\n",
    "import numpy as np\n",
    "import pandas as pd\n",
    "from matplotlib import pyplot as plt\n",
    "\n",
    "spiceypy.furnsh(\"meta_3.txt\")"
   ]
  },
  {
   "cell_type": "code",
   "execution_count": 24,
   "metadata": {},
   "outputs": [
    {
     "name": "stdout",
     "output_type": "stream",
     "text": [
      "Init time in UTC: 2000-01-01T00:00:00\n",
      "End time in UTC: 2027-05-19T00:00:00\n"
     ]
    }
   ],
   "source": [
    "INIT_TIME_UTC = datetime.datetime(year=2000, month=1, day=1, hour=0, minute=0, second=0)\n",
    "\n",
    "# Add a number of days; you can play around with the datetime variables; but\n",
    "# leave it as it is for the first try, since other computations and comments\n",
    "# are based on this value.\n",
    "DELTA_DAYS = 10000\n",
    "END_TIME_UTC = INIT_TIME_UTC + datetime.timedelta(days=DELTA_DAYS)\n",
    "\n",
    "# Convert the datetime objects now to strings\n",
    "INIT_TIME_UTC_STR = INIT_TIME_UTC.strftime(\"%Y-%m-%dT%H:%M:%S\")\n",
    "END_TIME_UTC_STR = END_TIME_UTC.strftime(\"%Y-%m-%dT%H:%M:%S\")\n",
    "\n",
    "# Print the starting and end times\n",
    "print(f\"Init time in UTC: {INIT_TIME_UTC_STR}\")\n",
    "print(f\"End time in UTC: {END_TIME_UTC_STR}\")\n",
    "\n",
    "# Convert to Ephemeris Time (ET) using the SPICE function utc2et\n",
    "INIT_TIME_ET = spiceypy.utc2et(INIT_TIME_UTC_STR)\n",
    "END_TIME_ET = spiceypy.utc2et(END_TIME_UTC_STR)\n",
    "\n",
    "# Create a numpy array that covers a time interval in delta = 1 day step\n",
    "TIME_INTERVAL_ET = np.linspace(INIT_TIME_ET, END_TIME_ET, DELTA_DAYS)"
   ]
  },
  {
   "cell_type": "code",
   "execution_count": 25,
   "metadata": {},
   "outputs": [],
   "source": [
    "_, RADII_SUN = spiceypy.bodvcd(bodyid=10, item=\"RADII\", maxn=3)\n",
    "\n",
    "RADIUS_SUN = RADII_SUN[0]"
   ]
  },
  {
   "cell_type": "code",
   "execution_count": 26,
   "metadata": {},
   "outputs": [],
   "source": [
    "SOLAR_SYSTEM_DF = pd.DataFrame()\n",
    "\n",
    "SOLAR_SYSTEM_DF.loc[:, \"ET\"] = TIME_INTERVAL_ET\n",
    "\n",
    "SOLAR_SYSTEM_DF.loc[:, \"UTC\"] = SOLAR_SYSTEM_DF[\"ET\"].apply(\n",
    "    lambda x: spiceypy.et2datetime(et=x).date()\n",
    ")"
   ]
  },
  {
   "cell_type": "code",
   "execution_count": 27,
   "metadata": {},
   "outputs": [
    {
     "data": {
      "text/html": [
       "<div>\n",
       "<style scoped>\n",
       "    .dataframe tbody tr th:only-of-type {\n",
       "        vertical-align: middle;\n",
       "    }\n",
       "\n",
       "    .dataframe tbody tr th {\n",
       "        vertical-align: top;\n",
       "    }\n",
       "\n",
       "    .dataframe thead th {\n",
       "        text-align: right;\n",
       "    }\n",
       "</style>\n",
       "<table border=\"1\" class=\"dataframe\">\n",
       "  <thead>\n",
       "    <tr style=\"text-align: right;\">\n",
       "      <th></th>\n",
       "      <th>ET</th>\n",
       "      <th>UTC</th>\n",
       "      <th>POS_SSB_WRT_SUN</th>\n",
       "      <th>POS_SSB_WRT_SUN_SCALED</th>\n",
       "      <th>SSB_WRT_SUN_SCALED_DIST</th>\n",
       "    </tr>\n",
       "  </thead>\n",
       "  <tbody>\n",
       "    <tr>\n",
       "      <th>0</th>\n",
       "      <td>-4.313582e+04</td>\n",
       "      <td>2000-01-01</td>\n",
       "      <td>[1068000.1891061615, 417680.9418664607, -30844...</td>\n",
       "      <td>[1.5344830303249446, 0.6001162957851447, -0.04...</td>\n",
       "      <td>1.648254</td>\n",
       "    </tr>\n",
       "    <tr>\n",
       "      <th>1</th>\n",
       "      <td>4.327283e+04</td>\n",
       "      <td>2000-01-02</td>\n",
       "      <td>[1067195.5017360714, 418789.11029741366, -3083...</td>\n",
       "      <td>[1.5333268703104475, 0.6017084918066288, -0.04...</td>\n",
       "      <td>1.647758</td>\n",
       "    </tr>\n",
       "    <tr>\n",
       "      <th>2</th>\n",
       "      <td>1.296815e+05</td>\n",
       "      <td>2000-01-03</td>\n",
       "      <td>[1066389.5596805303, 419896.06924681185, -3081...</td>\n",
       "      <td>[1.5321689075869689, 0.6032989500672584, -0.04...</td>\n",
       "      <td>1.647262</td>\n",
       "    </tr>\n",
       "    <tr>\n",
       "      <th>3</th>\n",
       "      <td>2.160901e+05</td>\n",
       "      <td>2000-01-04</td>\n",
       "      <td>[1065582.365061001, 421001.82313176966, -30802...</td>\n",
       "      <td>[1.5310091452025876, 0.6048876769134621, -0.04...</td>\n",
       "      <td>1.646766</td>\n",
       "    </tr>\n",
       "    <tr>\n",
       "      <th>4</th>\n",
       "      <td>3.024987e+05</td>\n",
       "      <td>2000-01-05</td>\n",
       "      <td>[1064773.9198190796, 422106.3763607678, -30788...</td>\n",
       "      <td>[1.5298475859469534, 0.6064746786792641, -0.04...</td>\n",
       "      <td>1.646269</td>\n",
       "    </tr>\n",
       "    <tr>\n",
       "      <th>...</th>\n",
       "      <td>...</td>\n",
       "      <td>...</td>\n",
       "      <td>...</td>\n",
       "      <td>...</td>\n",
       "      <td>...</td>\n",
       "    </tr>\n",
       "    <tr>\n",
       "      <th>9995</th>\n",
       "      <td>8.636112e+08</td>\n",
       "      <td>2027-05-14</td>\n",
       "      <td>[4663.265215005825, 653522.8491930669, -10147....</td>\n",
       "      <td>[0.006700093699721013, 0.938969610909579, -0.0...</td>\n",
       "      <td>0.939107</td>\n",
       "    </tr>\n",
       "    <tr>\n",
       "      <th>9996</th>\n",
       "      <td>8.636976e+08</td>\n",
       "      <td>2027-05-15</td>\n",
       "      <td>[3986.9114982562483, 652910.4356407273, -10131...</td>\n",
       "      <td>[0.005728321118184265, 0.9380897063803553, -0....</td>\n",
       "      <td>0.938220</td>\n",
       "    </tr>\n",
       "    <tr>\n",
       "      <th>9997</th>\n",
       "      <td>8.637841e+08</td>\n",
       "      <td>2027-05-16</td>\n",
       "      <td>[3311.597377454852, 652297.295702135, -10115.7...</td>\n",
       "      <td>[0.004758042208986856, 0.9372087581927226, -0....</td>\n",
       "      <td>0.937334</td>\n",
       "    </tr>\n",
       "    <tr>\n",
       "      <th>9998</th>\n",
       "      <td>8.638705e+08</td>\n",
       "      <td>2027-05-17</td>\n",
       "      <td>[2637.3234622905757, 651683.4323080052, -10099...</td>\n",
       "      <td>[0.0037892578481186433, 0.9363267705574787, -0...</td>\n",
       "      <td>0.936447</td>\n",
       "    </tr>\n",
       "    <tr>\n",
       "      <th>9999</th>\n",
       "      <td>8.639569e+08</td>\n",
       "      <td>2027-05-19</td>\n",
       "      <td>[1964.0898354642247, 651068.8481818008, -10083...</td>\n",
       "      <td>[0.0028219681544026216, 0.9354437473876448, -0...</td>\n",
       "      <td>0.935560</td>\n",
       "    </tr>\n",
       "  </tbody>\n",
       "</table>\n",
       "<p>10000 rows × 5 columns</p>\n",
       "</div>"
      ],
      "text/plain": [
       "                ET         UTC  \\\n",
       "0    -4.313582e+04  2000-01-01   \n",
       "1     4.327283e+04  2000-01-02   \n",
       "2     1.296815e+05  2000-01-03   \n",
       "3     2.160901e+05  2000-01-04   \n",
       "4     3.024987e+05  2000-01-05   \n",
       "...            ...         ...   \n",
       "9995  8.636112e+08  2027-05-14   \n",
       "9996  8.636976e+08  2027-05-15   \n",
       "9997  8.637841e+08  2027-05-16   \n",
       "9998  8.638705e+08  2027-05-17   \n",
       "9999  8.639569e+08  2027-05-19   \n",
       "\n",
       "                                        POS_SSB_WRT_SUN  \\\n",
       "0     [1068000.1891061615, 417680.9418664607, -30844...   \n",
       "1     [1067195.5017360714, 418789.11029741366, -3083...   \n",
       "2     [1066389.5596805303, 419896.06924681185, -3081...   \n",
       "3     [1065582.365061001, 421001.82313176966, -30802...   \n",
       "4     [1064773.9198190796, 422106.3763607678, -30788...   \n",
       "...                                                 ...   \n",
       "9995  [4663.265215005825, 653522.8491930669, -10147....   \n",
       "9996  [3986.9114982562483, 652910.4356407273, -10131...   \n",
       "9997  [3311.597377454852, 652297.295702135, -10115.7...   \n",
       "9998  [2637.3234622905757, 651683.4323080052, -10099...   \n",
       "9999  [1964.0898354642247, 651068.8481818008, -10083...   \n",
       "\n",
       "                                 POS_SSB_WRT_SUN_SCALED  \\\n",
       "0     [1.5344830303249446, 0.6001162957851447, -0.04...   \n",
       "1     [1.5333268703104475, 0.6017084918066288, -0.04...   \n",
       "2     [1.5321689075869689, 0.6032989500672584, -0.04...   \n",
       "3     [1.5310091452025876, 0.6048876769134621, -0.04...   \n",
       "4     [1.5298475859469534, 0.6064746786792641, -0.04...   \n",
       "...                                                 ...   \n",
       "9995  [0.006700093699721013, 0.938969610909579, -0.0...   \n",
       "9996  [0.005728321118184265, 0.9380897063803553, -0....   \n",
       "9997  [0.004758042208986856, 0.9372087581927226, -0....   \n",
       "9998  [0.0037892578481186433, 0.9363267705574787, -0...   \n",
       "9999  [0.0028219681544026216, 0.9354437473876448, -0...   \n",
       "\n",
       "      SSB_WRT_SUN_SCALED_DIST  \n",
       "0                    1.648254  \n",
       "1                    1.647758  \n",
       "2                    1.647262  \n",
       "3                    1.646766  \n",
       "4                    1.646269  \n",
       "...                       ...  \n",
       "9995                 0.939107  \n",
       "9996                 0.938220  \n",
       "9997                 0.937334  \n",
       "9998                 0.936447  \n",
       "9999                 0.935560  \n",
       "\n",
       "[10000 rows x 5 columns]"
      ]
     },
     "execution_count": 27,
     "metadata": {},
     "output_type": "execute_result"
    }
   ],
   "source": [
    "SOLAR_SYSTEM_DF.loc[:, \"POS_SSB_WRT_SUN\"] = SOLAR_SYSTEM_DF[\"ET\"].apply(\n",
    "    lambda x: spiceypy.spkgps(targ=0, et=x, ref=\"ECLIPJ2000\", obs=10)[0]\n",
    ")\n",
    "\n",
    "SOLAR_SYSTEM_DF.loc[:, \"POS_SSB_WRT_SUN_SCALED\"] = SOLAR_SYSTEM_DF[\n",
    "    \"POS_SSB_WRT_SUN\"\n",
    "].apply(lambda x: x / RADIUS_SUN)\n",
    "\n",
    "SOLAR_SYSTEM_DF.loc[:, \"SSB_WRT_SUN_SCALED_DIST\"] = SOLAR_SYSTEM_DF[\n",
    "    \"POS_SSB_WRT_SUN_SCALED\"\n",
    "].apply(lambda x: spiceypy.vnorm(x))\n",
    "\n",
    "SOLAR_SYSTEM_DF"
   ]
  },
  {
   "cell_type": "code",
   "execution_count": 28,
   "metadata": {},
   "outputs": [
    {
     "data": {
      "image/png": "[encoded data removed]",
      "text/plain": [
       "<Figure size 864x576 with 1 Axes>"
      ]
     },
     "metadata": {
      "needs_background": "light"
     },
     "output_type": "display_data"
    }
   ],
   "source": [
    "FIG, AX = plt.subplots(figsize=(12, 8))\n",
    "\n",
    "AX.plot(\n",
    "    SOLAR_SYSTEM_DF[\"UTC\"], SOLAR_SYSTEM_DF[\"SSB_WRT_SUN_SCALED_DIST\"], color=\"tab:blue\"\n",
    ")\n",
    "\n",
    "AX.set_xlabel(\"Date in UTC\")\n",
    "AX.set_ylabel(\"SSB Dist. in Sun Radii\", color=\"tab:blue\")\n",
    "AX.tick_params(axis=\"y\", labelcolor=\"tab:blue\")\n",
    "\n",
    "AX.set_xlim(min(SOLAR_SYSTEM_DF[\"UTC\"]), max(SOLAR_SYSTEM_DF[\"UTC\"]))\n",
    "AX.set_ylim(0, 2)\n",
    "\n",
    "AX.grid(axis=\"x\", linestyle=\"dashed\", alpha=0.5)\n",
    "\n",
    "plt.savefig(\"SSB2SUN_DISTANCE.png\", dpi=300)"
   ]
  },
  {
   "cell_type": "code",
   "execution_count": null,
   "metadata": {},
   "outputs": [],
   "source": []
  }
 ],
 "metadata": {
  "interpreter": {
   "hash": "52f3862d4a4852c2394463b89733c96f5782d3e163ff3ff8a1211de5a79c4ab6"
  },
  "kernelspec": {
   "display_name": "Python 3.10.1 64-bit ('venv': venv)",
   "language": "python",
   "name": "python3"
  },
  "language_info": {
   "codemirror_mode": {
    "name": "ipython",
    "version": 3
   },
   "file_extension": ".py",
   "mimetype": "text/x-python",
   "name": "python",
   "nbconvert_exporter": "python",
   "pygments_lexer": "ipython3",
   "version": "3.10.1"
  },
  "orig_nbformat": 4
 },
 "nbformat": 4,
 "nbformat_minor": 2
}
