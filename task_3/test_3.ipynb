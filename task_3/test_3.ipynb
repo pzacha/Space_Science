{
 "cells": [
  {
   "cell_type": "code",
   "execution_count": 6,
   "metadata": {},
   "outputs": [
    {
     "name": "stdout",
     "output_type": "stream",
     "text": [
      "The blackcellmagic extension is already loaded. To reload it, use:\n",
      "  %reload_ext blackcellmagic\n"
     ]
    }
   ],
   "source": [
    "%load_ext blackcellmagic"
   ]
  },
  {
   "cell_type": "code",
   "execution_count": 7,
   "metadata": {},
   "outputs": [],
   "source": [
    "import datetime\n",
    "import spiceypy\n",
    "import numpy as np\n",
    "import pandas as pd\n",
    "\n",
    "\n",
    "spiceypy.furnsh(\"meta_3.txt\")"
   ]
  },
  {
   "cell_type": "code",
   "execution_count": 8,
   "metadata": {},
   "outputs": [
    {
     "name": "stdout",
     "output_type": "stream",
     "text": [
      "Init time in UTC: 2000-01-01T00:00:00\n",
      "End time in UTC: 2027-05-19T00:00:00\n"
     ]
    }
   ],
   "source": [
    "INIT_TIME_UTC = datetime.datetime(year=2000, month=1, day=1, hour=0, minute=0, second=0)\n",
    "\n",
    "# Add a number of days; you can play around with the datetime variables; but\n",
    "# leave it as it is for the first try, since other computations and comments\n",
    "# are based on this value.\n",
    "DELTA_DAYS = 10000\n",
    "END_TIME_UTC = INIT_TIME_UTC + datetime.timedelta(days=DELTA_DAYS)\n",
    "\n",
    "# Convert the datetime objects now to strings\n",
    "INIT_TIME_UTC_STR = INIT_TIME_UTC.strftime(\"%Y-%m-%dT%H:%M:%S\")\n",
    "END_TIME_UTC_STR = END_TIME_UTC.strftime(\"%Y-%m-%dT%H:%M:%S\")\n",
    "\n",
    "# Print the starting and end times\n",
    "print(f\"Init time in UTC: {INIT_TIME_UTC_STR}\")\n",
    "print(f\"End time in UTC: {END_TIME_UTC_STR}\")\n",
    "\n",
    "# Convert to Ephemeris Time (ET) using the SPICE function utc2et\n",
    "INIT_TIME_ET = spiceypy.utc2et(INIT_TIME_UTC_STR)\n",
    "END_TIME_ET = spiceypy.utc2et(END_TIME_UTC_STR)\n",
    "\n",
    "# Create a numpy array that covers a time interval in delta = 1 day step\n",
    "TIME_INTERVAL_ET = np.linspace(INIT_TIME_ET, END_TIME_ET, DELTA_DAYS)"
   ]
  }
 ],
 "metadata": {
  "interpreter": {
   "hash": "52f3862d4a4852c2394463b89733c96f5782d3e163ff3ff8a1211de5a79c4ab6"
  },
  "kernelspec": {
   "display_name": "Python 3.10.1 64-bit ('venv': venv)",
   "language": "python",
   "name": "python3"
  },
  "language_info": {
   "codemirror_mode": {
    "name": "ipython",
    "version": 3
   },
   "file_extension": ".py",
   "mimetype": "text/x-python",
   "name": "python",
   "nbconvert_exporter": "python",
   "pygments_lexer": "ipython3",
   "version": "3.10.1"
  },
  "orig_nbformat": 4
 },
 "nbformat": 4,
 "nbformat_minor": 2
}
